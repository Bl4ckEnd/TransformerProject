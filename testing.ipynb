{
 "cells": [
  {
   "cell_type": "code",
   "execution_count": 2,
   "metadata": {},
   "outputs": [
    {
     "name": "stderr",
     "output_type": "stream",
     "text": [
      "/Users/laurafuentesvicente/opt/anaconda3/envs/torch_dev/lib/python3.10/site-packages/tqdm/auto.py:22: TqdmWarning: IProgress not found. Please update jupyter and ipywidgets. See https://ipywidgets.readthedocs.io/en/stable/user_install.html\n",
      "  from .autonotebook import tqdm as notebook_tqdm\n"
     ]
    }
   ],
   "source": [
    "import torch\n",
    "import torch.nn as nn\n",
    "import torchtext.transforms as T\n",
    "from torchtext.datasets import SST2\n",
    "from torch.hub import load_state_dict_from_url\n",
    "from torch.utils.data import DataLoader"
   ]
  },
  {
   "cell_type": "code",
   "execution_count": 3,
   "metadata": {},
   "outputs": [
    {
     "name": "stderr",
     "output_type": "stream",
     "text": [
      "100%|██████████| 5.07M/5.07M [00:00<00:00, 10.4MB/s]\n",
      "Downloading: \"https://download.pytorch.org/models/text/xlmr.vocab.pt\" to /Users/laurafuentesvicente/.cache/torch/hub/checkpoints/xlmr.vocab.pt\n",
      "100%|██████████| 4.85M/4.85M [00:00<00:00, 11.7MB/s]\n"
     ]
    },
    {
     "ename": "AttributeError",
     "evalue": "module 'torch' has no attribute '_utils'",
     "output_type": "error",
     "traceback": [
      "\u001b[0;31m---------------------------------------------------------------------------\u001b[0m",
      "\u001b[0;31mAttributeError\u001b[0m                            Traceback (most recent call last)",
      "Cell \u001b[0;32mIn[3], line 10\u001b[0m\n\u001b[1;32m      5\u001b[0m xlmr_vocab_path \u001b[39m=\u001b[39m \u001b[39mr\u001b[39m\u001b[39m\"\u001b[39m\u001b[39mhttps://download.pytorch.org/models/text/xlmr.vocab.pt\u001b[39m\u001b[39m\"\u001b[39m\n\u001b[1;32m      6\u001b[0m xlmr_spm_model_path \u001b[39m=\u001b[39m \u001b[39mr\u001b[39m\u001b[39m\"\u001b[39m\u001b[39mhttps://download.pytorch.org/models/text/xlmr.sentencepiece.bpe.model\u001b[39m\u001b[39m\"\u001b[39m\n\u001b[1;32m      8\u001b[0m text_transform \u001b[39m=\u001b[39m T\u001b[39m.\u001b[39mSequential(\n\u001b[1;32m      9\u001b[0m     T\u001b[39m.\u001b[39mSentencePieceTokenizer(xlmr_spm_model_path),\n\u001b[0;32m---> 10\u001b[0m     T\u001b[39m.\u001b[39mVocabTransform(load_state_dict_from_url(xlmr_vocab_path)),\n\u001b[1;32m     11\u001b[0m     T\u001b[39m.\u001b[39mTruncate(max_seq_len \u001b[39m-\u001b[39m \u001b[39m2\u001b[39m),\n\u001b[1;32m     12\u001b[0m     T\u001b[39m.\u001b[39mAddToken(token\u001b[39m=\u001b[39mbos_idx, begin\u001b[39m=\u001b[39m\u001b[39mTrue\u001b[39;00m),\n\u001b[1;32m     13\u001b[0m     T\u001b[39m.\u001b[39mAddToken(token\u001b[39m=\u001b[39meos_idx, begin\u001b[39m=\u001b[39m\u001b[39mFalse\u001b[39;00m),\n\u001b[1;32m     14\u001b[0m )\n",
      "File \u001b[0;32m~/opt/anaconda3/envs/torch_dev/lib/python3.10/site-packages/torch/hub.py:735\u001b[0m, in \u001b[0;36mload_state_dict_from_url\u001b[0;34m(url, model_dir, map_location, progress, check_hash, file_name)\u001b[0m\n\u001b[1;32m    733\u001b[0m \u001b[39mif\u001b[39;00m _is_legacy_zip_format(cached_file):\n\u001b[1;32m    734\u001b[0m     \u001b[39mreturn\u001b[39;00m _legacy_zip_load(cached_file, model_dir, map_location)\n\u001b[0;32m--> 735\u001b[0m \u001b[39mreturn\u001b[39;00m torch\u001b[39m.\u001b[39;49mload(cached_file, map_location\u001b[39m=\u001b[39;49mmap_location)\n",
      "File \u001b[0;32m~/opt/anaconda3/envs/torch_dev/lib/python3.10/site-packages/torch/serialization.py:789\u001b[0m, in \u001b[0;36mload\u001b[0;34m(f, map_location, pickle_module, weights_only, **pickle_load_args)\u001b[0m\n\u001b[1;32m    787\u001b[0m             \u001b[39mexcept\u001b[39;00m \u001b[39mRuntimeError\u001b[39;00m \u001b[39mas\u001b[39;00m e:\n\u001b[1;32m    788\u001b[0m                 \u001b[39mraise\u001b[39;00m pickle\u001b[39m.\u001b[39mUnpicklingError(UNSAFE_MESSAGE \u001b[39m+\u001b[39m \u001b[39mstr\u001b[39m(e)) \u001b[39mfrom\u001b[39;00m \u001b[39mNone\u001b[39m\n\u001b[0;32m--> 789\u001b[0m         \u001b[39mreturn\u001b[39;00m _load(opened_zipfile, map_location, pickle_module, \u001b[39m*\u001b[39;49m\u001b[39m*\u001b[39;49mpickle_load_args)\n\u001b[1;32m    790\u001b[0m \u001b[39mif\u001b[39;00m weights_only:\n\u001b[1;32m    791\u001b[0m     \u001b[39mtry\u001b[39;00m:\n",
      "File \u001b[0;32m~/opt/anaconda3/envs/torch_dev/lib/python3.10/site-packages/torch/serialization.py:1133\u001b[0m, in \u001b[0;36m_load\u001b[0;34m(zip_file, map_location, pickle_module, pickle_file, **pickle_load_args)\u001b[0m\n\u001b[1;32m   1130\u001b[0m unpickler\u001b[39m.\u001b[39mpersistent_load \u001b[39m=\u001b[39m persistent_load\n\u001b[1;32m   1131\u001b[0m result \u001b[39m=\u001b[39m unpickler\u001b[39m.\u001b[39mload()\n\u001b[0;32m-> 1133\u001b[0m torch\u001b[39m.\u001b[39;49m_utils\u001b[39m.\u001b[39m_validate_loaded_sparse_tensors()\n\u001b[1;32m   1135\u001b[0m \u001b[39mreturn\u001b[39;00m result\n",
      "\u001b[0;31mAttributeError\u001b[0m: module 'torch' has no attribute '_utils'"
     ]
    }
   ],
   "source": [
    "padding_idx = 1\n",
    "bos_idx = 0\n",
    "eos_idx = 2\n",
    "max_seq_len = 256\n",
    "xlmr_vocab_path = r\"https://download.pytorch.org/models/text/xlmr.vocab.pt\"\n",
    "xlmr_spm_model_path = r\"https://download.pytorch.org/models/text/xlmr.sentencepiece.bpe.model\"\n",
    "\n",
    "text_transform = T.Sequential(\n",
    "    T.SentencePieceTokenizer(xlmr_spm_model_path),\n",
    "    T.VocabTransform(load_state_dict_from_url(xlmr_vocab_path)),\n",
    "    T.Truncate(max_seq_len - 2),\n",
    "    T.AddToken(token=bos_idx, begin=True),\n",
    "    T.AddToken(token=eos_idx, begin=False),\n",
    ")"
   ]
  },
  {
   "cell_type": "code",
   "execution_count": 4,
   "metadata": {},
   "outputs": [
    {
     "ename": "ModuleNotFoundError",
     "evalue": "Package `torchdata` not found. Please install following instructions at https://github.com/pytorch/data",
     "output_type": "error",
     "traceback": [
      "\u001b[0;31m---------------------------------------------------------------------------\u001b[0m",
      "\u001b[0;31mModuleNotFoundError\u001b[0m                       Traceback (most recent call last)",
      "Cell \u001b[0;32mIn[4], line 3\u001b[0m\n\u001b[1;32m      1\u001b[0m batch_size \u001b[39m=\u001b[39m \u001b[39m16\u001b[39m\n\u001b[0;32m----> 3\u001b[0m train_datapipe \u001b[39m=\u001b[39m SST2(split\u001b[39m=\u001b[39;49m\u001b[39m\"\u001b[39;49m\u001b[39mtrain\u001b[39;49m\u001b[39m\"\u001b[39;49m)\n\u001b[1;32m      4\u001b[0m dev_datapipe \u001b[39m=\u001b[39m SST2(split\u001b[39m=\u001b[39m\u001b[39m\"\u001b[39m\u001b[39mdev\u001b[39m\u001b[39m\"\u001b[39m)\n\u001b[1;32m      7\u001b[0m \u001b[39m# Transform the raw dataset using non-batched API (i.e apply transformation line by line)\u001b[39;00m\n",
      "File \u001b[0;32m~/opt/anaconda3/envs/torch_dev/lib/python3.10/site-packages/torchtext/data/datasets_utils.py:193\u001b[0m, in \u001b[0;36m_create_dataset_directory.<locals>.decorator.<locals>.wrapper\u001b[0;34m(root, *args, **kwargs)\u001b[0m\n\u001b[1;32m    191\u001b[0m \u001b[39mif\u001b[39;00m \u001b[39mnot\u001b[39;00m os\u001b[39m.\u001b[39mpath\u001b[39m.\u001b[39mexists(new_root):\n\u001b[1;32m    192\u001b[0m     os\u001b[39m.\u001b[39mmakedirs(new_root, exist_ok\u001b[39m=\u001b[39m\u001b[39mTrue\u001b[39;00m)\n\u001b[0;32m--> 193\u001b[0m \u001b[39mreturn\u001b[39;00m fn(root\u001b[39m=\u001b[39;49mnew_root, \u001b[39m*\u001b[39;49margs, \u001b[39m*\u001b[39;49m\u001b[39m*\u001b[39;49mkwargs)\n",
      "File \u001b[0;32m~/opt/anaconda3/envs/torch_dev/lib/python3.10/site-packages/torchtext/data/datasets_utils.py:155\u001b[0m, in \u001b[0;36m_wrap_split_argument_with_fn.<locals>.new_fn\u001b[0;34m(root, split, **kwargs)\u001b[0m\n\u001b[1;32m    153\u001b[0m result \u001b[39m=\u001b[39m []\n\u001b[1;32m    154\u001b[0m \u001b[39mfor\u001b[39;00m item \u001b[39min\u001b[39;00m _check_default_set(split, splits, fn\u001b[39m.\u001b[39m\u001b[39m__name__\u001b[39m):\n\u001b[0;32m--> 155\u001b[0m     result\u001b[39m.\u001b[39mappend(fn(root, item, \u001b[39m*\u001b[39;49m\u001b[39m*\u001b[39;49mkwargs))\n\u001b[1;32m    156\u001b[0m \u001b[39mreturn\u001b[39;00m _wrap_datasets(\u001b[39mtuple\u001b[39m(result), split)\n",
      "File \u001b[0;32m~/opt/anaconda3/envs/torch_dev/lib/python3.10/site-packages/torchtext/datasets/sst2.py:88\u001b[0m, in \u001b[0;36mSST2\u001b[0;34m(root, split)\u001b[0m\n\u001b[1;32m     86\u001b[0m \u001b[39m# TODO Remove this after removing conditional dependency\u001b[39;00m\n\u001b[1;32m     87\u001b[0m \u001b[39mif\u001b[39;00m \u001b[39mnot\u001b[39;00m is_module_available(\u001b[39m\"\u001b[39m\u001b[39mtorchdata\u001b[39m\u001b[39m\"\u001b[39m):\n\u001b[0;32m---> 88\u001b[0m     \u001b[39mraise\u001b[39;00m \u001b[39mModuleNotFoundError\u001b[39;00m(\n\u001b[1;32m     89\u001b[0m         \u001b[39m\"\u001b[39m\u001b[39mPackage `torchdata` not found. Please install following instructions at https://github.com/pytorch/data\u001b[39m\u001b[39m\"\u001b[39m\n\u001b[1;32m     90\u001b[0m     )\n\u001b[1;32m     92\u001b[0m url_dp \u001b[39m=\u001b[39m IterableWrapper([URL])\n\u001b[1;32m     93\u001b[0m cache_compressed_dp \u001b[39m=\u001b[39m url_dp\u001b[39m.\u001b[39mon_disk_cache(\n\u001b[1;32m     94\u001b[0m     filepath_fn\u001b[39m=\u001b[39mpartial(_filepath_fn, root),\n\u001b[1;32m     95\u001b[0m     hash_dict\u001b[39m=\u001b[39m{_filepath_fn(root): MD5},\n\u001b[1;32m     96\u001b[0m     hash_type\u001b[39m=\u001b[39m\u001b[39m\"\u001b[39m\u001b[39mmd5\u001b[39m\u001b[39m\"\u001b[39m,\n\u001b[1;32m     97\u001b[0m )\n",
      "\u001b[0;31mModuleNotFoundError\u001b[0m: Package `torchdata` not found. Please install following instructions at https://github.com/pytorch/data"
     ]
    }
   ],
   "source": [
    "batch_size = 16\n",
    "\n",
    "train_datapipe = SST2(split=\"train\")\n",
    "dev_datapipe = SST2(split=\"dev\")\n",
    "\n",
    "\n",
    "# Transform the raw dataset using non-batched API (i.e apply transformation line by line)\n",
    "def apply_transform(x):\n",
    "    return text_transform(x[0]), x[1]\n",
    "\n",
    "\n",
    "train_datapipe = train_datapipe.map(apply_transform)\n",
    "train_datapipe = train_datapipe.batch(batch_size)\n",
    "train_datapipe = train_datapipe.rows2columnar([\"token_ids\", \"target\"])\n",
    "train_dataloader = DataLoader(train_datapipe, batch_size=None)\n",
    "\n",
    "dev_datapipe = dev_datapipe.map(apply_transform)\n",
    "dev_datapipe = dev_datapipe.batch(batch_size)\n",
    "dev_datapipe = dev_datapipe.rows2columnar([\"token_ids\", \"target\"])\n",
    "dev_dataloader = DataLoader(dev_datapipe, batch_size=None)"
   ]
  },
  {
   "cell_type": "code",
   "execution_count": null,
   "metadata": {},
   "outputs": [
    {
     "name": "stderr",
     "output_type": "stream",
     "text": [
      "Downloading: \"https://download.pytorch.org/models/text/xlmr.base.encoder.pt\" to /Users/vale/.cache/torch/hub/checkpoints/xlmr.base.encoder.pt\n"
     ]
    },
    {
     "data": {
      "application/vnd.jupyter.widget-view+json": {
       "model_id": "756978e84af24523a99e72f57f6cbb95",
       "version_major": 2,
       "version_minor": 0
      },
      "text/plain": [
       "  0%|          | 0.00/1.03G [00:00<?, ?B/s]"
      ]
     },
     "metadata": {},
     "output_type": "display_data"
    }
   ],
   "source": [
    "num_classes = 2\n",
    "input_dim = 768\n",
    "\n",
    "from torchtext.models import RobertaClassificationHead, XLMR_BASE_ENCODER\n",
    "\n",
    "classifier_head = RobertaClassificationHead(num_classes=num_classes, input_dim=input_dim)\n",
    "model = XLMR_BASE_ENCODER.get_model(head=classifier_head)"
   ]
  },
  {
   "cell_type": "code",
   "execution_count": 2,
   "metadata": {},
   "outputs": [
    {
     "ename": "ModuleNotFoundError",
     "evalue": "No module named 'torchtext'",
     "output_type": "error",
     "traceback": [
      "\u001b[0;31m---------------------------------------------------------------------------\u001b[0m",
      "\u001b[0;31mModuleNotFoundError\u001b[0m                       Traceback (most recent call last)",
      "\u001b[0;32m/var/folders/30/cz4hwnjn49sbv5x54df4kt4m0000gn/T/ipykernel_1588/826012283.py\u001b[0m in \u001b[0;36m<module>\u001b[0;34m\u001b[0m\n\u001b[0;32m----> 1\u001b[0;31m \u001b[0;32mimport\u001b[0m \u001b[0mtorchtext\u001b[0m\u001b[0;34m.\u001b[0m\u001b[0mfunctional\u001b[0m \u001b[0;32mas\u001b[0m \u001b[0mF\u001b[0m\u001b[0;34m\u001b[0m\u001b[0;34m\u001b[0m\u001b[0m\n\u001b[0m\u001b[1;32m      2\u001b[0m \u001b[0;32mfrom\u001b[0m \u001b[0mtorch\u001b[0m\u001b[0;34m.\u001b[0m\u001b[0moptim\u001b[0m \u001b[0;32mimport\u001b[0m \u001b[0mAdamW\u001b[0m\u001b[0;34m\u001b[0m\u001b[0;34m\u001b[0m\u001b[0m\n\u001b[1;32m      3\u001b[0m \u001b[0;34m\u001b[0m\u001b[0m\n\u001b[1;32m      4\u001b[0m \u001b[0mlearning_rate\u001b[0m \u001b[0;34m=\u001b[0m \u001b[0;36m1e-5\u001b[0m\u001b[0;34m\u001b[0m\u001b[0;34m\u001b[0m\u001b[0m\n\u001b[1;32m      5\u001b[0m \u001b[0moptim\u001b[0m \u001b[0;34m=\u001b[0m \u001b[0mAdamW\u001b[0m\u001b[0;34m(\u001b[0m\u001b[0mmodel\u001b[0m\u001b[0;34m.\u001b[0m\u001b[0mparameters\u001b[0m\u001b[0;34m(\u001b[0m\u001b[0;34m)\u001b[0m\u001b[0;34m,\u001b[0m \u001b[0mlr\u001b[0m\u001b[0;34m=\u001b[0m\u001b[0mlearning_rate\u001b[0m\u001b[0;34m)\u001b[0m\u001b[0;34m\u001b[0m\u001b[0;34m\u001b[0m\u001b[0m\n",
      "\u001b[0;31mModuleNotFoundError\u001b[0m: No module named 'torchtext'"
     ]
    }
   ],
   "source": [
    "import torchtext.functional as F\n",
    "from torch.optim import AdamW\n",
    "\n",
    "learning_rate = 1e-5\n",
    "optim = AdamW(model.parameters(), lr=learning_rate)\n",
    "criteria = nn.CrossEntropyLoss()\n",
    "\n",
    "\n",
    "def train_step(input, target):\n",
    "    output = model(input)\n",
    "    loss = criteria(output, target)\n",
    "    optim.zero_grad()\n",
    "    loss.backward()\n",
    "    optim.step()\n",
    "\n",
    "\n",
    "def eval_step(input, target):\n",
    "    output = model(input)\n",
    "    loss = criteria(output, target).item()\n",
    "    return float(loss), (output.argmax(1) == target).type(torch.float).sum().item()\n",
    "\n",
    "\n",
    "def evaluate():\n",
    "    model.eval()\n",
    "    total_loss = 0\n",
    "    correct_predictions = 0\n",
    "    total_predictions = 0\n",
    "    counter = 0\n",
    "    with torch.no_grad():\n",
    "        for batch in dev_dataloader:\n",
    "            input = F.to_tensor(batch[\"token_ids\"], padding_value=padding_idx)\n",
    "            target = torch.tensor(batch[\"target\"])\n",
    "            loss, predictions = eval_step(input, target)\n",
    "            total_loss += loss\n",
    "            correct_predictions += predictions\n",
    "            total_predictions += len(target)\n",
    "            counter += 1\n",
    "\n",
    "    return total_loss / counter, correct_predictions / total_predictions"
   ]
  },
  {
   "cell_type": "code",
   "execution_count": 6,
   "metadata": {},
   "outputs": [
    {
     "ename": "KeyboardInterrupt",
     "evalue": "",
     "output_type": "error",
     "traceback": [
      "\u001b[0;31m---------------------------------------------------------------------------\u001b[0m",
      "\u001b[0;31mKeyboardInterrupt\u001b[0m                         Traceback (most recent call last)",
      "\u001b[1;32m/Users/vale/Documents/Paris-Saclay/Méthodes de l'IA/TransformerProject/testing.ipynb Cell 6\u001b[0m in \u001b[0;36m<cell line: 3>\u001b[0;34m()\u001b[0m\n\u001b[1;32m      <a href='vscode-notebook-cell:/Users/vale/Documents/Paris-Saclay/M%C3%A9thodes%20de%20l%27IA/TransformerProject/testing.ipynb#W5sZmlsZQ%3D%3D?line=4'>5</a>\u001b[0m     \u001b[39minput\u001b[39m \u001b[39m=\u001b[39m F\u001b[39m.\u001b[39mto_tensor(batch[\u001b[39m\"\u001b[39m\u001b[39mtoken_ids\u001b[39m\u001b[39m\"\u001b[39m], padding_value\u001b[39m=\u001b[39mpadding_idx)\n\u001b[1;32m      <a href='vscode-notebook-cell:/Users/vale/Documents/Paris-Saclay/M%C3%A9thodes%20de%20l%27IA/TransformerProject/testing.ipynb#W5sZmlsZQ%3D%3D?line=5'>6</a>\u001b[0m     target \u001b[39m=\u001b[39m torch\u001b[39m.\u001b[39mtensor(batch[\u001b[39m\"\u001b[39m\u001b[39mtarget\u001b[39m\u001b[39m\"\u001b[39m])\n\u001b[0;32m----> <a href='vscode-notebook-cell:/Users/vale/Documents/Paris-Saclay/M%C3%A9thodes%20de%20l%27IA/TransformerProject/testing.ipynb#W5sZmlsZQ%3D%3D?line=6'>7</a>\u001b[0m     train_step(\u001b[39minput\u001b[39;49m, target)\n\u001b[1;32m      <a href='vscode-notebook-cell:/Users/vale/Documents/Paris-Saclay/M%C3%A9thodes%20de%20l%27IA/TransformerProject/testing.ipynb#W5sZmlsZQ%3D%3D?line=8'>9</a>\u001b[0m loss, accuracy \u001b[39m=\u001b[39m evaluate()\n\u001b[1;32m     <a href='vscode-notebook-cell:/Users/vale/Documents/Paris-Saclay/M%C3%A9thodes%20de%20l%27IA/TransformerProject/testing.ipynb#W5sZmlsZQ%3D%3D?line=9'>10</a>\u001b[0m \u001b[39mprint\u001b[39m(\u001b[39m\"\u001b[39m\u001b[39mEpoch = [\u001b[39m\u001b[39m{}\u001b[39;00m\u001b[39m], loss = [\u001b[39m\u001b[39m{}\u001b[39;00m\u001b[39m], accuracy = [\u001b[39m\u001b[39m{}\u001b[39;00m\u001b[39m]\u001b[39m\u001b[39m\"\u001b[39m\u001b[39m.\u001b[39mformat(e, loss, accuracy))\n",
      "\u001b[1;32m/Users/vale/Documents/Paris-Saclay/Méthodes de l'IA/TransformerProject/testing.ipynb Cell 6\u001b[0m in \u001b[0;36mtrain_step\u001b[0;34m(input, target)\u001b[0m\n\u001b[1;32m     <a href='vscode-notebook-cell:/Users/vale/Documents/Paris-Saclay/M%C3%A9thodes%20de%20l%27IA/TransformerProject/testing.ipynb#W5sZmlsZQ%3D%3D?line=9'>10</a>\u001b[0m output \u001b[39m=\u001b[39m model(\u001b[39minput\u001b[39m)\n\u001b[1;32m     <a href='vscode-notebook-cell:/Users/vale/Documents/Paris-Saclay/M%C3%A9thodes%20de%20l%27IA/TransformerProject/testing.ipynb#W5sZmlsZQ%3D%3D?line=10'>11</a>\u001b[0m loss \u001b[39m=\u001b[39m criteria(output, target)\n\u001b[0;32m---> <a href='vscode-notebook-cell:/Users/vale/Documents/Paris-Saclay/M%C3%A9thodes%20de%20l%27IA/TransformerProject/testing.ipynb#W5sZmlsZQ%3D%3D?line=11'>12</a>\u001b[0m optim\u001b[39m.\u001b[39;49mzero_grad()\n\u001b[1;32m     <a href='vscode-notebook-cell:/Users/vale/Documents/Paris-Saclay/M%C3%A9thodes%20de%20l%27IA/TransformerProject/testing.ipynb#W5sZmlsZQ%3D%3D?line=12'>13</a>\u001b[0m loss\u001b[39m.\u001b[39mbackward()\n\u001b[1;32m     <a href='vscode-notebook-cell:/Users/vale/Documents/Paris-Saclay/M%C3%A9thodes%20de%20l%27IA/TransformerProject/testing.ipynb#W5sZmlsZQ%3D%3D?line=13'>14</a>\u001b[0m optim\u001b[39m.\u001b[39mstep()\n",
      "File \u001b[0;32m~/opt/anaconda3/envs/torch_env/lib/python3.10/site-packages/torch/optim/optimizer.py:279\u001b[0m, in \u001b[0;36mOptimizer.zero_grad\u001b[0;34m(self, set_to_none)\u001b[0m\n\u001b[1;32m    277\u001b[0m     p\u001b[39m.\u001b[39mgrad\u001b[39m.\u001b[39mrequires_grad_(\u001b[39mFalse\u001b[39;00m)\n\u001b[1;32m    278\u001b[0m \u001b[39mif\u001b[39;00m (\u001b[39mnot\u001b[39;00m foreach \u001b[39mor\u001b[39;00m p\u001b[39m.\u001b[39mgrad\u001b[39m.\u001b[39mis_sparse):\n\u001b[0;32m--> 279\u001b[0m     p\u001b[39m.\u001b[39;49mgrad\u001b[39m.\u001b[39;49mzero_()\n\u001b[1;32m    280\u001b[0m \u001b[39melse\u001b[39;00m:\n\u001b[1;32m    281\u001b[0m     per_device_and_dtype_grads[p\u001b[39m.\u001b[39mgrad\u001b[39m.\u001b[39mdevice][p\u001b[39m.\u001b[39mgrad\u001b[39m.\u001b[39mdtype]\u001b[39m.\u001b[39mappend(p\u001b[39m.\u001b[39mgrad)\n",
      "\u001b[0;31mKeyboardInterrupt\u001b[0m: "
     ]
    }
   ],
   "source": [
    "# Beware: I ran this for 15 min and nothing happend\n",
    "num_epochs = 1\n",
    "\n",
    "for e in range(num_epochs):\n",
    "    for batch in train_dataloader:\n",
    "        input = F.to_tensor(batch[\"token_ids\"], padding_value=padding_idx)\n",
    "        target = torch.tensor(batch[\"target\"])\n",
    "        train_step(input, target)\n",
    "\n",
    "    loss, accuracy = evaluate()\n",
    "    print(\"Epoch = [{}], loss = [{}], accuracy = [{}]\".format(e, loss, accuracy))"
   ]
  },
  {
   "cell_type": "code",
   "execution_count": null,
   "metadata": {},
   "outputs": [],
   "source": []
  }
 ],
 "metadata": {
  "kernelspec": {
   "display_name": "torch_dev",
   "language": "python",
   "name": "python3"
  },
  "language_info": {
   "codemirror_mode": {
    "name": "ipython",
    "version": 3
   },
   "file_extension": ".py",
   "mimetype": "text/x-python",
   "name": "python",
   "nbconvert_exporter": "python",
   "pygments_lexer": "ipython3",
   "version": "3.10.9"
  },
  "orig_nbformat": 4,
  "vscode": {
   "interpreter": {
    "hash": "1119eafd3524dc8270acd47e8b480d9fce9a4a528bd6669152b3d857a82d5f89"
   }
  }
 },
 "nbformat": 4,
 "nbformat_minor": 2
}
