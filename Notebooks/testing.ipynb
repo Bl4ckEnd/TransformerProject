{
 "cells": [
  {
   "cell_type": "code",
   "execution_count": 3,
   "metadata": {},
   "outputs": [
    {
     "ename": "ModuleNotFoundError",
     "evalue": "No module named 'torchtext'",
     "output_type": "error",
     "traceback": [
      "\u001b[0;31m---------------------------------------------------------------------------\u001b[0m",
      "\u001b[0;31mModuleNotFoundError\u001b[0m                       Traceback (most recent call last)",
      "\u001b[0;32m/var/folders/30/cz4hwnjn49sbv5x54df4kt4m0000gn/T/ipykernel_1588/1563192968.py\u001b[0m in \u001b[0;36m<module>\u001b[0;34m\u001b[0m\n\u001b[1;32m      1\u001b[0m \u001b[0;32mimport\u001b[0m \u001b[0mtorch\u001b[0m\u001b[0;34m\u001b[0m\u001b[0;34m\u001b[0m\u001b[0m\n\u001b[1;32m      2\u001b[0m \u001b[0;32mimport\u001b[0m \u001b[0mtorch\u001b[0m\u001b[0;34m.\u001b[0m\u001b[0mnn\u001b[0m \u001b[0;32mas\u001b[0m \u001b[0mnn\u001b[0m\u001b[0;34m\u001b[0m\u001b[0;34m\u001b[0m\u001b[0m\n\u001b[0;32m----> 3\u001b[0;31m \u001b[0;32mimport\u001b[0m \u001b[0mtorchtext\u001b[0m\u001b[0;34m.\u001b[0m\u001b[0mtransforms\u001b[0m \u001b[0;32mas\u001b[0m \u001b[0mT\u001b[0m\u001b[0;34m\u001b[0m\u001b[0;34m\u001b[0m\u001b[0m\n\u001b[0m\u001b[1;32m      4\u001b[0m \u001b[0;32mfrom\u001b[0m \u001b[0mtorchtext\u001b[0m\u001b[0;34m.\u001b[0m\u001b[0mdatasets\u001b[0m \u001b[0;32mimport\u001b[0m \u001b[0mSST2\u001b[0m\u001b[0;34m\u001b[0m\u001b[0;34m\u001b[0m\u001b[0m\n\u001b[1;32m      5\u001b[0m \u001b[0;32mfrom\u001b[0m \u001b[0mtorch\u001b[0m\u001b[0;34m.\u001b[0m\u001b[0mhub\u001b[0m \u001b[0;32mimport\u001b[0m \u001b[0mload_state_dict_from_url\u001b[0m\u001b[0;34m\u001b[0m\u001b[0;34m\u001b[0m\u001b[0m\n",
      "\u001b[0;31mModuleNotFoundError\u001b[0m: No module named 'torchtext'"
     ]
    }
   ],
   "source": [
    "import torch\n",
    "import torch.nn as nn\n",
    "import torchtext.transforms as T\n",
    "from torchtext.datasets import SST2\n",
    "from torch.hub import load_state_dict_from_url\n",
    "from torch.utils.data import DataLoader"
   ]
  },
  {
   "cell_type": "code",
   "execution_count": null,
   "metadata": {},
   "outputs": [],
   "source": [
    "padding_idx = 1\n",
    "bos_idx = 0\n",
    "eos_idx = 2\n",
    "max_seq_len = 256\n",
    "xlmr_vocab_path = r\"https://download.pytorch.org/models/text/xlmr.vocab.pt\"\n",
    "xlmr_spm_model_path = r\"https://download.pytorch.org/models/text/xlmr.sentencepiece.bpe.model\"\n",
    "\n",
    "text_transform = T.Sequential(\n",
    "    T.SentencePieceTokenizer(xlmr_spm_model_path),\n",
    "    T.VocabTransform(load_state_dict_from_url(xlmr_vocab_path)),\n",
    "    T.Truncate(max_seq_len - 2),\n",
    "    T.AddToken(token=bos_idx, begin=True),\n",
    "    T.AddToken(token=eos_idx, begin=False),\n",
    ")"
   ]
  },
  {
   "cell_type": "code",
   "execution_count": null,
   "metadata": {},
   "outputs": [],
   "source": [
    "batch_size = 16\n",
    "\n",
    "train_datapipe = SST2(split=\"train\")\n",
    "dev_datapipe = SST2(split=\"dev\")\n",
    "\n",
    "\n",
    "# Transform the raw dataset using non-batched API (i.e apply transformation line by line)\n",
    "def apply_transform(x):\n",
    "    return text_transform(x[0]), x[1]\n",
    "\n",
    "\n",
    "train_datapipe = train_datapipe.map(apply_transform)\n",
    "train_datapipe = train_datapipe.batch(batch_size)\n",
    "train_datapipe = train_datapipe.rows2columnar([\"token_ids\", \"target\"])\n",
    "train_dataloader = DataLoader(train_datapipe, batch_size=None)\n",
    "\n",
    "dev_datapipe = dev_datapipe.map(apply_transform)\n",
    "dev_datapipe = dev_datapipe.batch(batch_size)\n",
    "dev_datapipe = dev_datapipe.rows2columnar([\"token_ids\", \"target\"])\n",
    "dev_dataloader = DataLoader(dev_datapipe, batch_size=None)"
   ]
  },
  {
   "cell_type": "code",
   "execution_count": null,
   "metadata": {},
   "outputs": [
    {
     "name": "stderr",
     "output_type": "stream",
     "text": [
      "Downloading: \"https://download.pytorch.org/models/text/xlmr.base.encoder.pt\" to /Users/vale/.cache/torch/hub/checkpoints/xlmr.base.encoder.pt\n"
     ]
    },
    {
     "data": {
      "application/vnd.jupyter.widget-view+json": {
       "model_id": "756978e84af24523a99e72f57f6cbb95",
       "version_major": 2,
       "version_minor": 0
      },
      "text/plain": [
       "  0%|          | 0.00/1.03G [00:00<?, ?B/s]"
      ]
     },
     "metadata": {},
     "output_type": "display_data"
    }
   ],
   "source": [
    "num_classes = 2\n",
    "input_dim = 768\n",
    "\n",
    "from torchtext.models import RobertaClassificationHead, XLMR_BASE_ENCODER\n",
    "\n",
    "classifier_head = RobertaClassificationHead(num_classes=num_classes, input_dim=input_dim)\n",
    "model = XLMR_BASE_ENCODER.get_model(head=classifier_head)"
   ]
  },
  {
   "cell_type": "code",
   "execution_count": 2,
   "metadata": {},
   "outputs": [
    {
     "ename": "ModuleNotFoundError",
     "evalue": "No module named 'torchtext'",
     "output_type": "error",
     "traceback": [
      "\u001b[0;31m---------------------------------------------------------------------------\u001b[0m",
      "\u001b[0;31mModuleNotFoundError\u001b[0m                       Traceback (most recent call last)",
      "\u001b[0;32m/var/folders/30/cz4hwnjn49sbv5x54df4kt4m0000gn/T/ipykernel_1588/826012283.py\u001b[0m in \u001b[0;36m<module>\u001b[0;34m\u001b[0m\n\u001b[0;32m----> 1\u001b[0;31m \u001b[0;32mimport\u001b[0m \u001b[0mtorchtext\u001b[0m\u001b[0;34m.\u001b[0m\u001b[0mfunctional\u001b[0m \u001b[0;32mas\u001b[0m \u001b[0mF\u001b[0m\u001b[0;34m\u001b[0m\u001b[0;34m\u001b[0m\u001b[0m\n\u001b[0m\u001b[1;32m      2\u001b[0m \u001b[0;32mfrom\u001b[0m \u001b[0mtorch\u001b[0m\u001b[0;34m.\u001b[0m\u001b[0moptim\u001b[0m \u001b[0;32mimport\u001b[0m \u001b[0mAdamW\u001b[0m\u001b[0;34m\u001b[0m\u001b[0;34m\u001b[0m\u001b[0m\n\u001b[1;32m      3\u001b[0m \u001b[0;34m\u001b[0m\u001b[0m\n\u001b[1;32m      4\u001b[0m \u001b[0mlearning_rate\u001b[0m \u001b[0;34m=\u001b[0m \u001b[0;36m1e-5\u001b[0m\u001b[0;34m\u001b[0m\u001b[0;34m\u001b[0m\u001b[0m\n\u001b[1;32m      5\u001b[0m \u001b[0moptim\u001b[0m \u001b[0;34m=\u001b[0m \u001b[0mAdamW\u001b[0m\u001b[0;34m(\u001b[0m\u001b[0mmodel\u001b[0m\u001b[0;34m.\u001b[0m\u001b[0mparameters\u001b[0m\u001b[0;34m(\u001b[0m\u001b[0;34m)\u001b[0m\u001b[0;34m,\u001b[0m \u001b[0mlr\u001b[0m\u001b[0;34m=\u001b[0m\u001b[0mlearning_rate\u001b[0m\u001b[0;34m)\u001b[0m\u001b[0;34m\u001b[0m\u001b[0;34m\u001b[0m\u001b[0m\n",
      "\u001b[0;31mModuleNotFoundError\u001b[0m: No module named 'torchtext'"
     ]
    }
   ],
   "source": [
    "import torchtext.functional as F\n",
    "from torch.optim import AdamW\n",
    "\n",
    "learning_rate = 1e-5\n",
    "optim = AdamW(model.parameters(), lr=learning_rate)\n",
    "criteria = nn.CrossEntropyLoss()\n",
    "\n",
    "\n",
    "def train_step(input, target):\n",
    "    output = model(input)\n",
    "    loss = criteria(output, target)\n",
    "    optim.zero_grad()\n",
    "    loss.backward()\n",
    "    optim.step()\n",
    "\n",
    "\n",
    "def eval_step(input, target):\n",
    "    output = model(input)\n",
    "    loss = criteria(output, target).item()\n",
    "    return float(loss), (output.argmax(1) == target).type(torch.float).sum().item()\n",
    "\n",
    "\n",
    "def evaluate():\n",
    "    model.eval()\n",
    "    total_loss = 0\n",
    "    correct_predictions = 0\n",
    "    total_predictions = 0\n",
    "    counter = 0\n",
    "    with torch.no_grad():\n",
    "        for batch in dev_dataloader:\n",
    "            input = F.to_tensor(batch[\"token_ids\"], padding_value=padding_idx)\n",
    "            target = torch.tensor(batch[\"target\"])\n",
    "            loss, predictions = eval_step(input, target)\n",
    "            total_loss += loss\n",
    "            correct_predictions += predictions\n",
    "            total_predictions += len(target)\n",
    "            counter += 1\n",
    "\n",
    "    return total_loss / counter, correct_predictions / total_predictions"
   ]
  },
  {
   "cell_type": "code",
   "execution_count": 6,
   "metadata": {},
   "outputs": [
    {
     "ename": "KeyboardInterrupt",
     "evalue": "",
     "output_type": "error",
     "traceback": [
      "\u001b[0;31m---------------------------------------------------------------------------\u001b[0m",
      "\u001b[0;31mKeyboardInterrupt\u001b[0m                         Traceback (most recent call last)",
      "\u001b[1;32m/Users/vale/Documents/Paris-Saclay/Méthodes de l'IA/TransformerProject/testing.ipynb Cell 6\u001b[0m in \u001b[0;36m<cell line: 3>\u001b[0;34m()\u001b[0m\n\u001b[1;32m      <a href='vscode-notebook-cell:/Users/vale/Documents/Paris-Saclay/M%C3%A9thodes%20de%20l%27IA/TransformerProject/testing.ipynb#W5sZmlsZQ%3D%3D?line=4'>5</a>\u001b[0m     \u001b[39minput\u001b[39m \u001b[39m=\u001b[39m F\u001b[39m.\u001b[39mto_tensor(batch[\u001b[39m\"\u001b[39m\u001b[39mtoken_ids\u001b[39m\u001b[39m\"\u001b[39m], padding_value\u001b[39m=\u001b[39mpadding_idx)\n\u001b[1;32m      <a href='vscode-notebook-cell:/Users/vale/Documents/Paris-Saclay/M%C3%A9thodes%20de%20l%27IA/TransformerProject/testing.ipynb#W5sZmlsZQ%3D%3D?line=5'>6</a>\u001b[0m     target \u001b[39m=\u001b[39m torch\u001b[39m.\u001b[39mtensor(batch[\u001b[39m\"\u001b[39m\u001b[39mtarget\u001b[39m\u001b[39m\"\u001b[39m])\n\u001b[0;32m----> <a href='vscode-notebook-cell:/Users/vale/Documents/Paris-Saclay/M%C3%A9thodes%20de%20l%27IA/TransformerProject/testing.ipynb#W5sZmlsZQ%3D%3D?line=6'>7</a>\u001b[0m     train_step(\u001b[39minput\u001b[39;49m, target)\n\u001b[1;32m      <a href='vscode-notebook-cell:/Users/vale/Documents/Paris-Saclay/M%C3%A9thodes%20de%20l%27IA/TransformerProject/testing.ipynb#W5sZmlsZQ%3D%3D?line=8'>9</a>\u001b[0m loss, accuracy \u001b[39m=\u001b[39m evaluate()\n\u001b[1;32m     <a href='vscode-notebook-cell:/Users/vale/Documents/Paris-Saclay/M%C3%A9thodes%20de%20l%27IA/TransformerProject/testing.ipynb#W5sZmlsZQ%3D%3D?line=9'>10</a>\u001b[0m \u001b[39mprint\u001b[39m(\u001b[39m\"\u001b[39m\u001b[39mEpoch = [\u001b[39m\u001b[39m{}\u001b[39;00m\u001b[39m], loss = [\u001b[39m\u001b[39m{}\u001b[39;00m\u001b[39m], accuracy = [\u001b[39m\u001b[39m{}\u001b[39;00m\u001b[39m]\u001b[39m\u001b[39m\"\u001b[39m\u001b[39m.\u001b[39mformat(e, loss, accuracy))\n",
      "\u001b[1;32m/Users/vale/Documents/Paris-Saclay/Méthodes de l'IA/TransformerProject/testing.ipynb Cell 6\u001b[0m in \u001b[0;36mtrain_step\u001b[0;34m(input, target)\u001b[0m\n\u001b[1;32m     <a href='vscode-notebook-cell:/Users/vale/Documents/Paris-Saclay/M%C3%A9thodes%20de%20l%27IA/TransformerProject/testing.ipynb#W5sZmlsZQ%3D%3D?line=9'>10</a>\u001b[0m output \u001b[39m=\u001b[39m model(\u001b[39minput\u001b[39m)\n\u001b[1;32m     <a href='vscode-notebook-cell:/Users/vale/Documents/Paris-Saclay/M%C3%A9thodes%20de%20l%27IA/TransformerProject/testing.ipynb#W5sZmlsZQ%3D%3D?line=10'>11</a>\u001b[0m loss \u001b[39m=\u001b[39m criteria(output, target)\n\u001b[0;32m---> <a href='vscode-notebook-cell:/Users/vale/Documents/Paris-Saclay/M%C3%A9thodes%20de%20l%27IA/TransformerProject/testing.ipynb#W5sZmlsZQ%3D%3D?line=11'>12</a>\u001b[0m optim\u001b[39m.\u001b[39;49mzero_grad()\n\u001b[1;32m     <a href='vscode-notebook-cell:/Users/vale/Documents/Paris-Saclay/M%C3%A9thodes%20de%20l%27IA/TransformerProject/testing.ipynb#W5sZmlsZQ%3D%3D?line=12'>13</a>\u001b[0m loss\u001b[39m.\u001b[39mbackward()\n\u001b[1;32m     <a href='vscode-notebook-cell:/Users/vale/Documents/Paris-Saclay/M%C3%A9thodes%20de%20l%27IA/TransformerProject/testing.ipynb#W5sZmlsZQ%3D%3D?line=13'>14</a>\u001b[0m optim\u001b[39m.\u001b[39mstep()\n",
      "File \u001b[0;32m~/opt/anaconda3/envs/torch_env/lib/python3.10/site-packages/torch/optim/optimizer.py:279\u001b[0m, in \u001b[0;36mOptimizer.zero_grad\u001b[0;34m(self, set_to_none)\u001b[0m\n\u001b[1;32m    277\u001b[0m     p\u001b[39m.\u001b[39mgrad\u001b[39m.\u001b[39mrequires_grad_(\u001b[39mFalse\u001b[39;00m)\n\u001b[1;32m    278\u001b[0m \u001b[39mif\u001b[39;00m (\u001b[39mnot\u001b[39;00m foreach \u001b[39mor\u001b[39;00m p\u001b[39m.\u001b[39mgrad\u001b[39m.\u001b[39mis_sparse):\n\u001b[0;32m--> 279\u001b[0m     p\u001b[39m.\u001b[39;49mgrad\u001b[39m.\u001b[39;49mzero_()\n\u001b[1;32m    280\u001b[0m \u001b[39melse\u001b[39;00m:\n\u001b[1;32m    281\u001b[0m     per_device_and_dtype_grads[p\u001b[39m.\u001b[39mgrad\u001b[39m.\u001b[39mdevice][p\u001b[39m.\u001b[39mgrad\u001b[39m.\u001b[39mdtype]\u001b[39m.\u001b[39mappend(p\u001b[39m.\u001b[39mgrad)\n",
      "\u001b[0;31mKeyboardInterrupt\u001b[0m: "
     ]
    }
   ],
   "source": [
    "# Beware: I ran this for 15 min and nothing happend\n",
    "num_epochs = 1\n",
    "\n",
    "for e in range(num_epochs):\n",
    "    for batch in train_dataloader:\n",
    "        input = F.to_tensor(batch[\"token_ids\"], padding_value=padding_idx)\n",
    "        target = torch.tensor(batch[\"target\"])\n",
    "        train_step(input, target)\n",
    "\n",
    "    loss, accuracy = evaluate()\n",
    "    print(\"Epoch = [{}], loss = [{}], accuracy = [{}]\".format(e, loss, accuracy))"
   ]
  },
  {
   "cell_type": "code",
   "execution_count": null,
   "metadata": {},
   "outputs": [],
   "source": []
  }
 ],
 "metadata": {
  "kernelspec": {
   "display_name": "torch_env",
   "language": "python",
   "name": "python3"
  },
  "language_info": {
   "codemirror_mode": {
    "name": "ipython",
    "version": 3
   },
   "file_extension": ".py",
   "mimetype": "text/x-python",
   "name": "python",
   "nbconvert_exporter": "python",
   "pygments_lexer": "ipython3",
   "version": "3.10.9 (main, Jan 11 2023, 09:18:18) [Clang 14.0.6 ]"
  },
  "orig_nbformat": 4,
  "vscode": {
   "interpreter": {
    "hash": "8a879b3c84bb7e63a8c4c75f0c1ef571cab4f78472af249a2a9bd17bc12a0c74"
   }
  }
 },
 "nbformat": 4,
 "nbformat_minor": 2
}
